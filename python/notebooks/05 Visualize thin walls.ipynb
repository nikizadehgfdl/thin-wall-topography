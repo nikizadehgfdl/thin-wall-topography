{
 "cells": [
  {
   "cell_type": "code",
   "execution_count": 1,
   "metadata": {
    "collapsed": true
   },
   "outputs": [],
   "source": [
    "# All imports should be in first cell\n",
    "import cartopy\n",
    "import imp\n",
    "import matplotlib.pyplot as plt\n",
    "%matplotlib inline\n",
    "import numpy as np\n",
    "import ThinWalls"
   ]
  },
  {
   "cell_type": "code",
   "execution_count": 2,
   "metadata": {},
   "outputs": [
    {
     "name": "stdout",
     "output_type": "stream",
     "text": [
      "Help on module ThinWalls:\n",
      "\n",
      "NAME\n",
      "    ThinWalls\n",
      "\n",
      "CLASSES\n",
      "    GMesh.GMesh(builtins.object)\n",
      "        ThinWalls\n",
      "    \n",
      "    class ThinWalls(GMesh.GMesh)\n",
      "     |  Container for thin wall topographic data and mesh.\n",
      "     |  \n",
      "     |  Additional members:\n",
      "     |  zc_mean - mean elevation of cell, shape (nj,ni)\n",
      "     |  zu_mean - mean elevation of western edge of cell, shape (nj,ni+1)\n",
      "     |  zv_mean - mean elevation of southern edge of cell, shape (nj+1,nj)\n",
      "     |  shapeu  - shape of zu_mean, ie. =(nj,ni+1)\n",
      "     |  shapev  - shape of zv_mean, ie. =(nj+1,ni)\n",
      "     |  \n",
      "     |  Extends the GMesh class.\n",
      "     |  \n",
      "     |  Method resolution order:\n",
      "     |      ThinWalls\n",
      "     |      GMesh.GMesh\n",
      "     |      builtins.object\n",
      "     |  \n",
      "     |  Methods defined here:\n",
      "     |  \n",
      "     |  __init__(self, *args, **kwargs)\n",
      "     |      Constructor for ThinWalls.\n",
      "     |  \n",
      "     |  dump(self)\n",
      "     |      Dump Mesh to tty.\n",
      "     |  \n",
      "     |  plot(self, axis, thickness=0.2, metric='mean', *args, **kwargs)\n",
      "     |      Plots ThinWalls data.\n",
      "     |  \n",
      "     |  refine(self)\n",
      "     |      Returns new ThinWalls instance with twice the resolution.\n",
      "     |  \n",
      "     |  set_cell_mean(self, data)\n",
      "     |      Set elevation of cell center.\n",
      "     |  \n",
      "     |  set_edge_mean(self, datau, datav)\n",
      "     |      Set elevation of cell edges u,v.\n",
      "     |  \n",
      "     |  set_edge_mean_to_step(self)\n",
      "     |      Set elevation of cell edges to step topography.\n",
      "     |  \n",
      "     |  ----------------------------------------------------------------------\n",
      "     |  Methods inherited from GMesh.GMesh:\n",
      "     |  \n",
      "     |  __getitem__(self, key)\n",
      "     |  \n",
      "     |  __repr__(self)\n",
      "     |      Return repr(self).\n",
      "     |  \n",
      "     |  coarsenby2(self, coarser_mesh)\n",
      "     |      Set the height for lower level Mesh by coarsening\n",
      "     |  \n",
      "     |  find_nn_uniform_source(self, lon, lat)\n",
      "     |      Returns the i,j arrays for the indexes of the nearest neighbor point to grid (lon,lat)\n",
      "     |  \n",
      "     |  pcolormesh(self, axis, data, **kwargs)\n",
      "     |  \n",
      "     |  project_source_data_onto_target_mesh(self, xs, ys, zs)\n",
      "     |      Returns the array on target mesh with values equal to the nearest-neighbor source point data\n",
      "     |  \n",
      "     |  refine_loop(self, src_lon, src_lat, max_stages=6, verbose=True)\n",
      "     |      Repeatedly refines the mesh until all cells in the source grid are intercepted by mesh nodes.\n",
      "     |      Returns a list of the refined meshes starting with parent mesh.\n",
      "     |  \n",
      "     |  refineby2(self, work_in_3d=True)\n",
      "     |      Returns new Mesh instance with twice the resolution\n",
      "     |  \n",
      "     |  rotate(self, y_rot=0, z_rot=0)\n",
      "     |      Sequentially apply a rotation about the Y-axis and then the Z-axis.\n",
      "     |  \n",
      "     |  source_hits(self, xs, ys)\n",
      "     |      Returns an mask array of 1's if a cell with center (xs,ys) is intercepted by a node\n",
      "     |      on the mesh, 0 if no node falls in a cell\n",
      "     |  \n",
      "     |  ----------------------------------------------------------------------\n",
      "     |  Data descriptors inherited from GMesh.GMesh:\n",
      "     |  \n",
      "     |  __dict__\n",
      "     |      dictionary for instance variables (if defined)\n",
      "     |  \n",
      "     |  __weakref__\n",
      "     |      list of weak references to the object (if defined)\n",
      "\n",
      "FILE\n",
      "    /net2/aja/GitHub/thin-wall-topography/python/ThinWalls.py\n",
      "\n",
      "\n"
     ]
    }
   ],
   "source": [
    "imp.reload(ThinWalls)\n",
    "\n",
    "help(ThinWalls)"
   ]
  },
  {
   "cell_type": "code",
   "execution_count": 3,
   "metadata": {
    "collapsed": true
   },
   "outputs": [],
   "source": [
    "TW = ThinWalls.ThinWalls(lon=np.linspace(0,30,7), lat=np.linspace(0,20,6))\n",
    "np.random.seed(0)\n",
    "TW.set_cell_mean( np.random.random( (5,6) ) )\n",
    "TW.set_edge_mean( np.random.random( (5,7) ), np.random.random( (6,6) ) )\n",
    "# TW.dump()"
   ]
  },
  {
   "cell_type": "code",
   "execution_count": 4,
   "metadata": {},
   "outputs": [
    {
     "data": {
      "image/png": "[encoded data removed]",
      "text/plain": [
       "<Figure size 432x288 with 1 Axes>"
      ]
     },
     "metadata": {
      "needs_background": "light"
     },
     "output_type": "display_data"
    }
   ],
   "source": [
    "ax = plt.subplot(111)\n",
    "TW.plot(ax);"
   ]
  },
  {
   "cell_type": "code",
   "execution_count": 5,
   "metadata": {},
   "outputs": [
    {
     "data": {
      "image/png": "[encoded data removed]",
      "text/plain": [
       "<Figure size 432x288 with 2 Axes>"
      ]
     },
     "metadata": {
      "needs_background": "light"
     },
     "output_type": "display_data"
    }
   ],
   "source": [
    "ax = plt.subplot(111, projection=cartopy.crs.NearsidePerspective())\n",
    "im = TW.plot(ax, transform=cartopy.crs.PlateCarree());\n",
    "plt.colorbar(im, ax=ax);"
   ]
  },
  {
   "cell_type": "code",
   "execution_count": 6,
   "metadata": {},
   "outputs": [
    {
     "data": {
      "image/png": "[encoded data removed]",
      "text/plain": [
       "<Figure size 432x288 with 1 Axes>"
      ]
     },
     "metadata": {
      "needs_background": "light"
     },
     "output_type": "display_data"
    }
   ],
   "source": [
    "TW.set_edge_mean_to_step()\n",
    "ax = plt.subplot(111)\n",
    "TW.plot(ax);"
   ]
  }
 ],
 "metadata": {
  "kernelspec": {
   "display_name": "Python 3",
   "language": "python",
   "name": "python3"
  },
  "language_info": {
   "codemirror_mode": {
    "name": "ipython",
    "version": 3
   },
   "file_extension": ".py",
   "mimetype": "text/x-python",
   "name": "python",
   "nbconvert_exporter": "python",
   "pygments_lexer": "ipython3",
   "version": "3.6.1"
  }
 },
 "nbformat": 4,
 "nbformat_minor": 1
}
