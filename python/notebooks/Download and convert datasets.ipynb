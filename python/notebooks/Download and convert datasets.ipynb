{
 "cells": [
  {
   "cell_type": "markdown",
   "metadata": {},
   "source": [
    "*Developed using conda python 3.4 environment with netCDF4 package installed*"
   ]
  },
  {
   "cell_type": "code",
   "execution_count": 1,
   "metadata": {
    "collapsed": false
   },
   "outputs": [],
   "source": [
    "import urllib.request\n",
    "import os.path\n",
    "import numpy\n",
    "import struct\n",
    "import netCDF4"
   ]
  },
  {
   "cell_type": "code",
   "execution_count": 2,
   "metadata": {
    "collapsed": true
   },
   "outputs": [],
   "source": [
    "def fetch_file_from_web(url, filename=None):\n",
    "    \"\"\"Download file from url and optionally names it as filename\"\"\"\n",
    "    if filename is None: local_file = os.path.split(url)[-1]\n",
    "    else: local_file = filename\n",
    "    if not os.path.isfile(local_file):\n",
    "        print('\\rDownload file %s ...'%local_file, end='')\n",
    "        urllib.request.urlretrieve(url, local_file)\n",
    "        print('\\rDone.', end='')"
   ]
  },
  {
   "cell_type": "code",
   "execution_count": 3,
   "metadata": {
    "collapsed": false
   },
   "outputs": [],
   "source": [
    "def convert_ETOPO5_to_netcdf(etopo5_file='ETOPO5.DAT', netcdf_file='ETOPO5.nc'):\n",
    "    \"\"\"Creates a netcdf containing the ETOPO5 dataset.\n",
    "    Will download ETOPO5.DAT if it is not present.\"\"\"\n",
    "    if not os.path.isfile(etopo5_file):\n",
    "        raise Exception('Download ETOPO5.DAT from https://www.ngdc.noaa.gov/mgg/global/relief/ETOPO5/TOPO/ETOPO5/ETOPO5.DAT')\n",
    "    # The documentation at http://www.ngdc.noaa.gov/mgg/global/etopo5.HTML states that\n",
    "    #   \"The data start at the North Pole (90 deg N, 0 deg 0' E) and are arranged in bands of\n",
    "    #    360 degrees x 12 points/degree = 4320 values (8640 bytes) ranging eastward from\n",
    "    #    0 deg 0' East longitude to 359 deg 55' East longitude (since it represents the North\n",
    "    #    Pole, all possible longitudes still refer to a single point, thus the first band has\n",
    "    #    4320 identical values of -4290 m). The 8641st starts the latitude band for 89 deg 55' N,\n",
    "    #    and so on. There is NO record for the South Pole (elevation 2810 m.)\"\n",
    "    # Therefore, we must add a row for the south pole.\n",
    "    nj,ni = 2161,4320\n",
    "    H = numpy.zeros((nj,ni))\n",
    "    with open('ETOPO5.DAT','rb') as fid:\n",
    "        for j in range(nj-1):\n",
    "            print('\\rReading row %i/%i ...'%(j+1,nj-1), end='')\n",
    "            for i in range(ni):\n",
    "                b = fid.read(2)\n",
    "                H[j,i] = struct.unpack('>h',b)[0]\n",
    "    print('\\rFlipping data...', end='')\n",
    "    H[-1,:] = 2810. # For the missing south pole data\n",
    "    H = H[::-1,:] # South to north instead of north to south\n",
    "    x = numpy.arange(ni) * (360. / ni)\n",
    "    y = numpy.arange(nj) * (180. / (nj-1)) - 90.\n",
    "    print('\\rCreating netcdf file ...', end='')\n",
    "    # Create netcdf file (http://unidata.github.io/netcdf4-python/#netCDF4.Dataset.__init__)\n",
    "    rg = netCDF4.Dataset(netcdf_file, mode='w', format='NETCDF3_64BIT')\n",
    "    # Create dimensions (http://unidata.github.io/netcdf4-python/#netCDF4.Dataset.createDimension)\n",
    "    rg.createDimension('ni', ni)\n",
    "    rg.createDimension('nj', nj)\n",
    "    # Create variables (http://unidata.github.io/netcdf4-python/#netCDF4.Dataset.createVariable)\n",
    "    ncvar_x = rg.createVariable('lon', 'f4', ('ni',))\n",
    "    ncvar_y = rg.createVariable('lat', 'f4', ('nj',))\n",
    "    ncvar_e = rg.createVariable('elevation', 'f4', ('nj','ni',))\n",
    "    # Attributes\n",
    "    rg.title = 'ETOPO5 5-minute gridded elevation data'\n",
    "    rg.url = 'http://www.ngdc.noaa.gov/mgg/global/etopo5.HTML'\n",
    "    rg.citation = ('Data Announcement 88-MGG-02, Digital relief of the Surface of the Earth.'\n",
    "    +' NOAA, National Geophysical Data Center, Boulder, Colorado, 1988.')\n",
    "    rg.description = ('ETOPO5 was generated from a digital data base of land and sea-floor elevations'\n",
    "    +' on a 5-minute latitude/longitude grid. The resolution of the gridded data varies from true 5-minute'\n",
    "    +' for the ocean floors, the USA., Europe, Japan,and Australia to 1 degree in data-deficient parts of'\n",
    "    +' Asia, South America, northern Canada, and Africa. Data sources are as follows: Ocean Areas: US Naval'\n",
    "    +' Oceanographic Office; USA., W. Europe, Japan/Korea: US Defense Mapping Agency; Australia: Bureau of'\n",
    "    +' Mineral Resources, Australia; New Zealand: Department of Industrial and Scientific Research, New'\n",
    "    +' Zealand; balance of world land masses: US Navy Fleet Numerical Oceanographic Center. These various'\n",
    "    +' data bases were originally assembled in 1988 into the worldwide 5-minute grid by Margo Edwards, then'\n",
    "    +' at Washington University, St. Louis, MO.')\n",
    "    ncvar_x.description = 'Longitude of grid nodes'\n",
    "    ncvar_x.units = 'degrees east'\n",
    "    ncvar_y.description = 'Latitude of grid nodes'\n",
    "    ncvar_y.units = 'degrees north'\n",
    "    ncvar_e.desciption = 'Elevation of land and sea-floor given as height at nodes'\n",
    "    ncvar_e.units = 'm'\n",
    "    print('\\rWriting to netcdf file ...', end='')\n",
    "    ncvar_x[:] = x\n",
    "    ncvar_y[:] = y\n",
    "    ncvar_e[:,:] = H\n",
    "    rg.close()\n",
    "    print('\\rDone.', end='')"
   ]
  },
  {
   "cell_type": "code",
   "execution_count": 4,
   "metadata": {
    "collapsed": false
   },
   "outputs": [
    {
     "name": "stdout",
     "output_type": "stream",
     "text": [
      "Done."
     ]
    }
   ],
   "source": [
    "fetch_file_from_web('https://www.ngdc.noaa.gov/mgg/global/relief/ETOPO5/TOPO/ETOPO5/ETOPO5.DAT')\n",
    "convert_ETOPO5_to_netcdf()"
   ]
  }
 ],
 "metadata": {
  "kernelspec": {
   "display_name": "Python 3",
   "language": "python",
   "name": "python3"
  },
  "language_info": {
   "codemirror_mode": {
    "name": "ipython",
    "version": 3
   },
   "file_extension": ".py",
   "mimetype": "text/x-python",
   "name": "python",
   "nbconvert_exporter": "python",
   "pygments_lexer": "ipython3",
   "version": "3.4.3"
  }
 },
 "nbformat": 4,
 "nbformat_minor": 0
}
