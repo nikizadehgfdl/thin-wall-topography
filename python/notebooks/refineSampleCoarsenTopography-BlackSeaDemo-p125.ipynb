{
 "cells": [
  {
   "cell_type": "markdown",
   "metadata": {
    "colab_type": "text",
    "id": "FzPFwAc4aE5Q"
   },
   "source": [
    "## This notebook utilizes the tool to make a refine-sample-coarsen model topography "
   ]
  },
  {
   "cell_type": "code",
   "execution_count": 1,
   "metadata": {
    "collapsed": true
   },
   "outputs": [],
   "source": [
    "import GMesh\n",
    "import imp  \n",
    "import inspect\n",
    "import netCDF4\n",
    "import numpy as np\n",
    "import matplotlib.pyplot as plt\n",
    "%matplotlib inline"
   ]
  },
  {
   "cell_type": "markdown",
   "metadata": {
    "colab_type": "text",
    "id": "jPKG4PO7mJ5T"
   },
   "source": [
    "## GridMesh Class"
   ]
  },
  {
   "cell_type": "code",
   "execution_count": 2,
   "metadata": {
    "colab": {},
    "colab_type": "code",
    "id": "tSORGBfOcmj6",
    "scrolled": false
   },
   "outputs": [
    {
     "name": "stdout",
     "output_type": "stream",
     "text": [
      "Help on module GMesh:\n",
      "\n",
      "NAME\n",
      "    GMesh\n",
      "\n",
      "CLASSES\n",
      "    builtins.object\n",
      "        GMesh\n",
      "    \n",
      "    class GMesh(builtins.object)\n",
      "     |  Describes 2D meshes for ESMs.\n",
      "     |  \n",
      "     |  Meshes have shape=(nj,ni) cells with (nj+1,ni+1) vertices with coordinates (lon,lat).\n",
      "     |  \n",
      "     |  When constructing, either provide 1d or 2d coordinates (lon,lat), or assume a\n",
      "     |  uniform spherical grid with 'shape' cells covering the whole sphere with\n",
      "     |  longitudes starting at lon0.\n",
      "     |  \n",
      "     |  Attributes:\n",
      "     |  \n",
      "     |  shape - (nj,ni)\n",
      "     |  ni    - number of cells in i-direction (last)\n",
      "     |  nj    - number of cells in j-direction (first)\n",
      "     |  lon   - longitude of mesh (cell corners), shape (nj+1,ni=1)\n",
      "     |  lat   - latitude of mesh (cell corners), shape (nj+1,ni=1)\n",
      "     |  area  - area of cells, shape (nj,ni)\n",
      "     |  \n",
      "     |  Methods defined here:\n",
      "     |  \n",
      "     |  __getitem__(self, key)\n",
      "     |  \n",
      "     |  __init__(self, shape=None, lon=None, lat=None, area=None, lon0=-180.0, from_cell_center=False, rfl=0)\n",
      "     |      Constructor for Mesh:\n",
      "     |      shape - shape of cell array, (nj,ni)\n",
      "     |      ni    - number of cells in i-direction (last index)\n",
      "     |      nj    - number of cells in j-direction (first index)\n",
      "     |      lon   - longitude of mesh (cell corners) (1d or 2d)\n",
      "     |      lat   - latitude of mesh (cell corners) (1d or 2d)\n",
      "     |      area  - area of cells (2d)\n",
      "     |      lon0  - used when generating a spherical grid in absence of (lon,lat)\n",
      "     |      rfl   - refining level of this mesh\n",
      "     |  \n",
      "     |  __repr__(self)\n",
      "     |      Return repr(self).\n",
      "     |  \n",
      "     |  coarsenby2(self, coarser_mesh)\n",
      "     |      Set the height for lower level Mesh by coarsening\n",
      "     |  \n",
      "     |  dump(self)\n",
      "     |      Dump Mesh to tty.\n",
      "     |  \n",
      "     |  find_nn_uniform_source(self, lon, lat)\n",
      "     |      Returns the i,j arrays for the indexes of the nearest neighbor point to grid (lon,lat)\n",
      "     |  \n",
      "     |  pcolormesh(self, axis, data, **kwargs)\n",
      "     |  \n",
      "     |  plot(self, axis, subsample=1, linecolor='k', **kwargs)\n",
      "     |  \n",
      "     |  refine_loop(self, src_lon, src_lat, max_stages=32, max_mb=2000, verbose=True, singularity_radius=0.25)\n",
      "     |      Repeatedly refines the mesh until all cells in the source grid are intercepted by mesh nodes.\n",
      "     |      Returns a list of the refined meshes starting with parent mesh.\n",
      "     |  \n",
      "     |  refineby2(self, work_in_3d=True)\n",
      "     |      Returns new Mesh instance with twice the resolution\n",
      "     |  \n",
      "     |  rotate(self, y_rot=0, z_rot=0)\n",
      "     |      Sequentially apply a rotation about the Y-axis and then the Z-axis.\n",
      "     |  \n",
      "     |  sample_source_data_on_target_mesh(self, xs, ys, zs)\n",
      "     |      Returns the array on target mesh with values equal to the nearest-neighbor source point data\n",
      "     |  \n",
      "     |  source_hits(self, xs, ys, singularity_radius=0.25)\n",
      "     |      Returns an mask array of 1's if a cell with center (xs,ys) is intercepted by a node\n",
      "     |      on the mesh, 0 if no node falls in a cell\n",
      "     |  \n",
      "     |  ----------------------------------------------------------------------\n",
      "     |  Data descriptors defined here:\n",
      "     |  \n",
      "     |  __dict__\n",
      "     |      dictionary for instance variables (if defined)\n",
      "     |  \n",
      "     |  __weakref__\n",
      "     |      list of weak references to the object (if defined)\n",
      "\n",
      "FUNCTIONS\n",
      "    is_mesh_uniform(lon, lat)\n",
      "        Returns True if the input grid (lon,lat) is uniform and False otherwise\n",
      "\n",
      "FILE\n",
      "    /net2/nnz/thin-wall-topography/python/GMesh.py\n",
      "\n",
      "\n"
     ]
    }
   ],
   "source": [
    "#Reload the GMesh tool (in case you change something in the tool and want it to take effect in this notebook)\n",
    "imp.reload(GMesh) \n",
    "help(GMesh)"
   ]
  },
  {
   "cell_type": "markdown",
   "metadata": {
    "colab_type": "text",
    "id": "Hu7z0eIpTfTZ"
   },
   "source": [
    "## Read GEBCO dataset for topography"
   ]
  },
  {
   "cell_type": "code",
   "execution_count": 3,
   "metadata": {},
   "outputs": [
    {
     "name": "stdout",
     "output_type": "stream",
     "text": [
      " topography grid array shapes:  (43200,) (21600,) (21600, 43200)\n",
      " topography longitude range: -299.99583333333334 59.99583333333334\n",
      " topography latitude range: -89.99583333333332 89.99583333333334\n",
      " Is mesh uniform? True\n"
     ]
    }
   ],
   "source": [
    "# # Open and read the topographic dataset\n",
    "# Open a topography dataset, check that the topography is on a uniform grid.\n",
    "# URL of topographic data, names of longitude, latitude and elevation variables\n",
    "url,vx,vy,ve = '/net2/nnz/thin-wall-topography/python/workdir/GEBCO_2014_2D.nc','lon','lat','elevation'\n",
    "# url,vx,vy,ve = 'http://thredds.socib.es/thredds/dodsC/ancillary_data/bathymetry/MED_GEBCO_30sec.nc','lon','lat','elevation'\n",
    "# url,vx,vy,ve = 'http://iridl.ldeo.columbia.edu/SOURCES/.NOAA/.NGDC/.ETOPO1/.z_bedrock/dods','lon','lat','z_bedrock'\n",
    "topo_data = netCDF4.Dataset(url)\n",
    "# Read coordinates of topography\n",
    "topo_lons = np.array( topo_data.variables[vx][:] )\n",
    "topo_lats = np.array( topo_data.variables[vy][:] )\n",
    "topo_elvs = np.array( topo_data.variables[ve][:,:] )\n",
    "#Translate topo data to start at target_mesh.lon[0]\n",
    "topo_lons = np.roll(topo_lons,14400,axis=0) #Roll GEBCO longitude to right. 14400 was a lucky guess that checked out!\n",
    "topo_lons = np.where(topo_lons>60 , topo_lons-360, topo_lons) #Rename (0,60) as (-300,-180) \n",
    "topo_elvs = np.roll(topo_elvs,14400,axis=1) #Roll GEBCO depth to the right by the same amount.\n",
    "topo_wet=np.zeros(topo_elvs.shape)\n",
    "topo_wet=np.where(topo_elvs<0.,1.0,0.0)\n",
    "print(' topography grid array shapes: ' , topo_lons.shape,topo_lats.shape,topo_elvs.shape)\n",
    "print(' topography longitude range:',topo_lons.min(),topo_lons.max())\n",
    "print(' topography latitude range:',topo_lats.min(),topo_lats.max())\n",
    "print(' Is mesh uniform?', GMesh.is_mesh_uniform( topo_lons, topo_lats ) )\n",
    "#plt.figure(figsize=(10,10))\n",
    "#plt.pcolormesh(topo_lons[::100], topo_lats[::100],topo_elvs[::100,::100]);plt.colorbar();"
   ]
  },
  {
   "cell_type": "markdown",
   "metadata": {
    "colab_type": "text",
    "id": "xDhpqHHKcmj8"
   },
   "source": [
    "## Read the target grid\n",
    "\n",
    "Terget grid is the underlying finite element 2D supergrid to be used in the Ocean model. Here we choose a 1/4 degree Mercator grid  generated by using the [grid_generation tool](https://github.com/nikizadehgfdl/grid_generation). "
   ]
  },
  {
   "cell_type": "code",
   "execution_count": 4,
   "metadata": {
    "colab": {},
    "colab_type": "code",
    "id": "eSSLLaQUcmj-",
    "outputId": "c25a2ea6-07bf-48a7-fead-378883e75ad0"
   },
   "outputs": [
    {
     "name": "stdout",
     "output_type": "stream",
     "text": [
      " Target mesh shape:  (2801, 5760)\n"
     ]
    }
   ],
   "source": [
    "#Read in Mercator grid for 1/4 degree model\n",
    "targ_grid =  netCDF4.Dataset('/work3/nnz/MOM6-examples_myfork/ice_ocean_SIS2/OM4_0125/preprocessing/ocean_hgrid.ncMerc.nc')\n",
    "targ_lon = np.array(targ_grid.variables['x'])\n",
    "targ_lat = np.array(targ_grid.variables['y'])\n",
    "#x and y have shape (nyp,nxp). Topog does not need the last col for global grids (period in x). \n",
    "targ_lon = targ_lon[:,:-1]\n",
    "targ_lat = targ_lat[:,:-1]\n",
    "print(\" Target mesh shape: \",targ_lon.shape)"
   ]
  },
  {
   "cell_type": "markdown",
   "metadata": {
    "colab_type": "text",
    "id": "K1VpBDuvcmkI"
   },
   "source": [
    "## Divide the Target grid into blocks\n",
    " The target grid is uaually too big to be handled in one go. Hence, we break the target to pieces and handle them one at a time. "
   ]
  },
  {
   "cell_type": "code",
   "execution_count": 5,
   "metadata": {
    "collapsed": true
   },
   "outputs": [],
   "source": [
    "import create_topog_refinedSampling as topotool\n",
    "xb=4 # of partitions in the logical x-direction \n",
    "yb=1\n",
    "lons=topotool.break_array_to_blocks(targ_lon,xb,yb)\n",
    "lats=topotool.break_array_to_blocks(targ_lat,xb,yb)"
   ]
  },
  {
   "cell_type": "markdown",
   "metadata": {
    "colab_type": "text",
    "id": "ORytGBa4mJ5s"
   },
   "source": [
    "## Refine, Sample (by averaging), Coarsen procedure\n",
    "\n",
    "For demonstration purposes do only the 3rd block which contains the Black Sea region. But this has to be done for all the blocks and the results merged (using topotool.undo_break_array_to_blocks() subroutine)."
   ]
  },
  {
   "cell_type": "code",
   "execution_count": null,
   "metadata": {
    "collapsed": true
   },
   "outputs": [],
   "source": [
    "part=3 #for demonstration, contains Black Sea\n",
    "lon = lons[part]\n",
    "lat = lats[part]\n",
    "h,hstd,hmin,hmax = topotool.do_block(part,lon,lat,topo_lons,topo_lats,topo_elvs)"
   ]
  },
  {
   "cell_type": "code",
   "execution_count": 20,
   "metadata": {},
   "outputs": [
    {
     "data": {
      "text/plain": [
       "<matplotlib.collections.QuadMesh at 0x2b1e3089cd68>"
      ]
     },
     "execution_count": 20,
     "metadata": {},
     "output_type": "execute_result"
    },
    {
     "data": {
      "image/png": "[encoded data removed]",
      "text/plain": [
       "<matplotlib.figure.Figure at 0x2b1e305403c8>"
      ]
     },
     "metadata": {
      "needs_background": "light"
     },
     "output_type": "display_data"
    }
   ],
   "source": [
    "wet=np.zeros(h.shape)\n",
    "wet=np.where(h<0, 1.0,0.0)\n",
    "jtrg0,itrg0=topotool.get_indices2D(lon, lat ,29.03, 41.04)\n",
    "di0,dj0=40,20\n",
    "itrgm,itrgp = itrg0-di0, itrg0+di0\n",
    "jtrgm,jtrgp = jtrg0-dj0, jtrg0+dj0\n",
    "plt.pcolormesh(wet[jtrgm:jtrgp,itrgm:itrgp])"
   ]
  },
  {
   "cell_type": "markdown",
   "metadata": {},
   "source": [
    "## Refine, Sample (by minimum), Coarsen \n",
    "\n",
    "As you see the Bosphorus Chanell is missing and the Black Sea is not connected even though it was present in the source topography. This is because when we refined and zoomed in we picked up the wet point but the neighboring points were land and when we average over four neighors the chanell goes away.\n",
    "\n",
    "The easiest way out is not to average over the four points but to pick up the minimum height (hmin) as the height."
   ]
  },
  {
   "cell_type": "code",
   "execution_count": 21,
   "metadata": {},
   "outputs": [
    {
     "data": {
      "text/plain": [
       "<matplotlib.collections.QuadMesh at 0x2b1e30931b38>"
      ]
     },
     "execution_count": 21,
     "metadata": {},
     "output_type": "execute_result"
    },
    {
     "data": {
      "image/png": "[encoded data removed]",
      "text/plain": [
       "<matplotlib.figure.Figure at 0x2b1e3063c6d8>"
      ]
     },
     "metadata": {
      "needs_background": "light"
     },
     "output_type": "display_data"
    }
   ],
   "source": [
    "wetmin=np.zeros(hmin.shape)\n",
    "wetmin=np.where(hmin<0, 1.0,0.0)\n",
    "plt.pcolormesh(wetmin[jtrgm:jtrgp,itrgm:itrgp])"
   ]
  },
  {
   "cell_type": "markdown",
   "metadata": {
    "collapsed": true
   },
   "source": [
    "## So, The method of minimums does not work for 1/8 degree grid as it did for 1/4 degree! Why?\n",
    "\n",
    "\n",
    "Were we just lucky for the 1/4 degree grid?\n",
    "\n",
    "Note that all source points are hit here as were in 1/4 degree.\n",
    "\n",
    "Also note that there is clearly a Bosphorus path in the source data as shown below."
   ]
  },
  {
   "cell_type": "code",
   "execution_count": 26,
   "metadata": {
    "scrolled": false
   },
   "outputs": [
    {
     "data": {
      "text/plain": [
       "<matplotlib.collections.QuadMesh at 0x2b1e30c500f0>"
      ]
     },
     "execution_count": 26,
     "metadata": {},
     "output_type": "execute_result"
    },
    {
     "data": {
      "image/png": "[encoded data removed]",
      "text/plain": [
       "<matplotlib.figure.Figure at 0x2b1e30bbca58>"
      ]
     },
     "metadata": {
      "needs_background": "light"
     },
     "output_type": "display_data"
    }
   ],
   "source": [
    "#Zoom in on Black Sea channel\n",
    "jsrc0,isrc0=topotool.get_indices1D(topo_lons, topo_lats ,29.03, 41.04)\n",
    "#print(topo_elvs[j0,i0-1]) #-32\n",
    "di0,dj0=80,80\n",
    "isrcm,isrcp = isrc0-di0, isrc0+di0\n",
    "jsrcm,jsrcp = jsrc0-dj0, jsrc0+dj0\n",
    "plt.pcolormesh(topo_wet[jsrcm:jsrcp,isrcm:isrcp])"
   ]
  },
  {
   "cell_type": "markdown",
   "metadata": {},
   "source": [
    "## Opening Selective Channels\n",
    "\n",
    "Another way out, which unlike the hmin approach is subjective, is to widen the channel in the source topography so that the result of averaging are wet points. This is a very subjective approach that would need identifying all the chanells over the globe and for each one to choose how wide it shoud get to result a channel in the final (ice9ed) topography. "
   ]
  },
  {
   "cell_type": "code",
   "execution_count": 33,
   "metadata": {},
   "outputs": [
    {
     "data": {
      "text/plain": [
       "<matplotlib.collections.QuadMesh at 0x2b1e3109d630>"
      ]
     },
     "execution_count": 33,
     "metadata": {},
     "output_type": "execute_result"
    },
    {
     "data": {
      "image/png": "[encoded data removed]",
      "text/plain": [
       "<matplotlib.figure.Figure at 0x2b1e30fb29b0>"
      ]
     },
     "metadata": {
      "needs_background": "light"
     },
     "output_type": "display_data"
    }
   ],
   "source": [
    "topo_elvs2 = 1.0*topo_elvs + 0.0\n",
    "#Fix the topography to open some channels\n",
    "open_channels = True\n",
    "if(open_channels):\n",
    "    j2,i2=topotool.get_indices1D(topo_lons, topo_lats ,29.1, 41.3)\n",
    "    topo_elvs2[jsrc0-10:j2,isrc0-1:i2]=topo_elvs[jsrc0,isrc0-1]\n",
    "#    j1,i1=get_indices1D(topo_lons, topo_lats ,26., 40.) #Dardanells\n",
    "#    topo_elvs2[j1+1,i1]=topo_elvs[j1,i1]    \n",
    "topo_wet2=np.zeros(topo_elvs2.shape)\n",
    "topo_wet2=np.where(topo_elvs2<0.,1.0,0.0)\n",
    "plt.pcolormesh(topo_wet2[jsrcm:jsrcp,isrcm:isrcp])    "
   ]
  },
  {
   "cell_type": "code",
   "execution_count": 34,
   "metadata": {},
   "outputs": [
    {
     "name": "stdout",
     "output_type": "stream",
     "text": [
      "  Doing block number  3\n",
      "  Target sub mesh shape:  (2801, 1440)\n",
      "  Slices j,i: slice(2773, 18484, 2) slice(32400, 43193, 2)\n",
      "  Topo shape: (7856, 5397)\n",
      "  topography longitude range: -29.995833333333334 59.9375\n",
      "  topography latitude  range: -66.8875 64.02916666666667\n",
      "  Target     longitude range: -30.0 59.9375\n",
      "  Target     latitude  range: -66.88409658467617 64.03160594077568\n",
      "  Refining the target to hit all source points ...\n",
      "<GMesh nj:2800 ni:1439 shape:(2800,1439)> Hit 4033440 out of 42398832 cells (61.4807 Mb)\n",
      "<GMesh nj:5600 ni:2878 shape:(5600,2878)> Hit 15778981 out of 42398832 cells (245.9229 Mb)\n",
      "<GMesh nj:11200 ni:5756 shape:(11200,5756)> Hit 42398832 out of 42398832 cells (983.6914 Mb)\n",
      "  non-hit ratio:  0  /  42398832\n",
      "  Sampling the source points on target mesh ...\n",
      "  Sampling finished...\n",
      "  Coarsening back to the original taget grid ...\n",
      "\n"
     ]
    },
    {
     "data": {
      "text/plain": [
       "<matplotlib.collections.QuadMesh at 0x2b1e3112dc50>"
      ]
     },
     "execution_count": 34,
     "metadata": {},
     "output_type": "execute_result"
    },
    {
     "data": {
      "image/png": "[encoded data removed]",
      "text/plain": [
       "<matplotlib.figure.Figure at 0x2b1e30fc34a8>"
      ]
     },
     "metadata": {
      "needs_background": "light"
     },
     "output_type": "display_data"
    }
   ],
   "source": [
    "#result of opening a wide channel\n",
    "h2,hstd2,hmin2,hmax2 = topotool.do_block(part,lon,lat,topo_lons,topo_lats,topo_elvs2)\n",
    "wet2=np.zeros(h2.shape)\n",
    "wet2=np.where(h2<0, 1.0,0.0)\n",
    "plt.pcolormesh(wet2[jtrgm:jtrgp,itrgm:itrgp])"
   ]
  },
  {
   "cell_type": "markdown",
   "metadata": {},
   "source": [
    "## Water Bridges\n",
    "\n",
    "Another objective although arbitrary way is to make water bridges in the SW-NE direction. This could be done as a part of ice9 procedure."
   ]
  },
  {
   "cell_type": "code",
   "execution_count": 48,
   "metadata": {},
   "outputs": [
    {
     "data": {
      "text/plain": [
       "<matplotlib.collections.QuadMesh at 0x2b1e317cf748>"
      ]
     },
     "execution_count": 48,
     "metadata": {},
     "output_type": "execute_result"
    },
    {
     "data": {
      "image/png": "[encoded data removed]",
      "text/plain": [
       "<matplotlib.figure.Figure at 0x2b1e3153aa58>"
      ]
     },
     "metadata": {
      "needs_background": "light"
     },
     "output_type": "display_data"
    }
   ],
   "source": [
    "plt.pcolormesh(wetmin[jtrgm:jtrgp,itrgm:itrgp])"
   ]
  },
  {
   "cell_type": "code",
   "execution_count": 50,
   "metadata": {},
   "outputs": [
    {
     "data": {
      "text/plain": [
       "<matplotlib.collections.QuadMesh at 0x2b1e31d48908>"
      ]
     },
     "execution_count": 50,
     "metadata": {},
     "output_type": "execute_result"
    },
    {
     "data": {
      "image/png": "[encoded data removed]",
      "text/plain": [
       "<matplotlib.figure.Figure at 0x2b1e316c6c88>"
      ]
     },
     "metadata": {
      "needs_background": "light"
     },
     "output_type": "display_data"
    }
   ],
   "source": [
    "hb = 1.0*hmin + 0.0\n",
    "for j in range(1,hb.shape[0]-1):\n",
    "    for i in range(1,hb.shape[1]-1):\n",
    "        if(hmin[j,i]>0 and hmin[j-1,i]<0 and hmin[j+1,i+1]<0):\n",
    "            hb[j,i] = 0.5*(hmin[j-1,i]+hmin[j+1,i+1])\n",
    "            hb[j+1,i] = hb[j,i]\n",
    "wetb=np.zeros(hb.shape)\n",
    "wetb=np.where(hb<0, 1.0,0.0)\n",
    "plt.pcolormesh(wetb[jtrgm:jtrgp,itrgm:itrgp])"
   ]
  },
  {
   "cell_type": "markdown",
   "metadata": {},
   "source": [
    "### The above is on the supergrid. The simple-sampled mask on the grid is again disconnected:"
   ]
  },
  {
   "cell_type": "code",
   "execution_count": 51,
   "metadata": {},
   "outputs": [
    {
     "data": {
      "text/plain": [
       "<matplotlib.collections.QuadMesh at 0x2b1e315ea780>"
      ]
     },
     "execution_count": 51,
     "metadata": {},
     "output_type": "execute_result"
    },
    {
     "data": {
      "image/png": "[encoded data removed]",
      "text/plain": [
       "<matplotlib.figure.Figure at 0x2b1e30e7a668>"
      ]
     },
     "metadata": {
      "needs_background": "light"
     },
     "output_type": "display_data"
    }
   ],
   "source": [
    "hbs = hb[:-1:2,:-1:2]\n",
    "wetbs=np.zeros(hbs.shape)\n",
    "wetbs=np.where(hbs<0, 1.0,0.0)\n",
    "plt.pcolormesh(wetbs[jtrgm//2:jtrgp//2,itrgm//2:itrgp//2])"
   ]
  },
  {
   "cell_type": "markdown",
   "metadata": {},
   "source": [
    "### We are losing information by simple-sampling from supergrid to grid. We can do better."
   ]
  },
  {
   "cell_type": "code",
   "execution_count": 52,
   "metadata": {},
   "outputs": [
    {
     "data": {
      "text/plain": [
       "<matplotlib.collections.QuadMesh at 0x2b1e31adfc88>"
      ]
     },
     "execution_count": 52,
     "metadata": {},
     "output_type": "execute_result"
    },
    {
     "data": {
      "image/png": "[encoded data removed]",
      "text/plain": [
       "<matplotlib.figure.Figure at 0x2b1e31c04d68>"
      ]
     },
     "metadata": {
      "needs_background": "light"
     },
     "output_type": "display_data"
    }
   ],
   "source": [
    "hbs2 = np.minimum(hb[:-1:2,:-1:2],hb[1::2,1::2])\n",
    "\n",
    "wetbs2=np.zeros(hbs2.shape)\n",
    "wetbs2=np.where(hbs2<0, 1.0,0.0)\n",
    "plt.pcolormesh(wetbs2[jtrgm//2:jtrgp//2,itrgm//2:itrgp//2])"
   ]
  },
  {
   "cell_type": "markdown",
   "metadata": {},
   "source": [
    "### And we do not even need to build bridges"
   ]
  },
  {
   "cell_type": "code",
   "execution_count": 53,
   "metadata": {},
   "outputs": [
    {
     "data": {
      "text/plain": [
       "<matplotlib.collections.QuadMesh at 0x2b1e32075dd8>"
      ]
     },
     "execution_count": 53,
     "metadata": {},
     "output_type": "execute_result"
    },
    {
     "data": {
      "image/png": "[encoded data removed]",
      "text/plain": [
       "<matplotlib.figure.Figure at 0x2b1e31e2d358>"
      ]
     },
     "metadata": {
      "needs_background": "light"
     },
     "output_type": "display_data"
    }
   ],
   "source": [
    "hmin2 = np.minimum(hmin[:-1:2,:-1:2],hmin[1::2,1::2])\n",
    "\n",
    "wetmin2=np.zeros(hmin2.shape)\n",
    "wetmin2=np.where(hmin2<0, 1.0,0.0)\n",
    "plt.pcolormesh(wetmin2[jtrgm//2:jtrgp//2,itrgm//2:itrgp//2])"
   ]
  },
  {
   "cell_type": "markdown",
   "metadata": {},
   "source": [
    "## Inspect the generated topography"
   ]
  },
  {
   "cell_type": "code",
   "execution_count": 11,
   "metadata": {},
   "outputs": [
    {
     "name": "stdout",
     "output_type": "stream",
     "text": [
      "(2801, 5760)\n"
     ]
    }
   ],
   "source": [
    "#targ_topo =  netCDF4.Dataset('/work3/nnz/MOM6-examples_myfork/ice_ocean_SIS2/OM4_025/preprocessing.new/topog_editted.nc')\n",
    "#j0,i0 = 680,1320\n",
    "#targ_topo =  netCDF4.Dataset('/work/Niki.Zadeh/MOM6-examples_myfork/ice_ocean_SIS2/OM4_0125/preprocessing/topog_editted.nc')\n",
    "#j0,i0 = 1446,2630\n",
    "#targ_topo =  netCDF4.Dataset('/work/Niki.Zadeh/MOM6-examples_myfork/ice_ocean_SIS2/OM4_025/preprocessing.new/topog_MERC.nc')\n",
    "targ_topo =  netCDF4.Dataset('/work/Niki.Zadeh/MOM6-examples_myfork/ice_ocean_SIS2/OM4_0125/preprocessing/topog_MERC.nc')\n",
    "\n",
    "targ_x = np.array(targ_topo.variables['x'])\n",
    "targ_y = np.array(targ_topo.variables['y'])\n",
    "targ_h = np.array(targ_topo.variables['h_min'])\n",
    "print(targ_h.shape)\n",
    "targ_wet=np.zeros(targ_h.shape)\n",
    "targ_wet=np.where(targ_h<0.,1.0,0.0)"
   ]
  },
  {
   "cell_type": "code",
   "execution_count": 12,
   "metadata": {},
   "outputs": [
    {
     "data": {
      "text/plain": [
       "<matplotlib.collections.QuadMesh at 0x2b1e303b7898>"
      ]
     },
     "execution_count": 12,
     "metadata": {},
     "output_type": "execute_result"
    },
    {
     "data": {
      "image/png": "[encoded data removed]",
      "text/plain": [
       "<matplotlib.figure.Figure at 0x2b1e191e29b0>"
      ]
     },
     "metadata": {
      "needs_background": "light"
     },
     "output_type": "display_data"
    }
   ],
   "source": [
    "#Zoom in on Black Sea channel\n",
    "#import create_topog_refinedSampling as topotool\n",
    "j0,i0=topotool.get_indices2D(targ_x, targ_y ,29.03, 41.04)\n",
    "di0,dj0=40,20\n",
    "im,ip = i0-di0, i0+di0\n",
    "jm,jp = j0-dj0, j0+dj0\n",
    "plt.pcolormesh(targ_wet[jm:jp,im:ip])"
   ]
  },
  {
   "cell_type": "code",
   "execution_count": null,
   "metadata": {
    "collapsed": true
   },
   "outputs": [],
   "source": []
  }
 ],
 "metadata": {
  "colab": {
   "include_colab_link": true,
   "name": "Copy of algorithm_dev.ipynb",
   "provenance": [],
   "toc_visible": true,
   "version": "0.3.2"
  },
  "kernelspec": {
   "display_name": "Python 3",
   "language": "python",
   "name": "python3"
  },
  "language_info": {
   "codemirror_mode": {
    "name": "ipython",
    "version": 3
   },
   "file_extension": ".py",
   "mimetype": "text/x-python",
   "name": "python",
   "nbconvert_exporter": "python",
   "pygments_lexer": "ipython3",
   "version": "3.7.3"
  }
 },
 "nbformat": 4,
 "nbformat_minor": 1
}
