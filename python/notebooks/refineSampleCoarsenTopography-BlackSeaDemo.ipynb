{
 "cells": [
  {
   "cell_type": "markdown",
   "metadata": {
    "colab_type": "text",
    "id": "FzPFwAc4aE5Q"
   },
   "source": [
    "## This notebook utilizes the tool to make a refine-sample-coarsen model topography "
   ]
  },
  {
   "cell_type": "code",
   "execution_count": 2,
   "metadata": {
    "collapsed": true
   },
   "outputs": [],
   "source": [
    "import GMesh\n",
    "import imp  \n",
    "import inspect\n",
    "import netCDF4\n",
    "import numpy as np\n",
    "import matplotlib.pyplot as plt\n",
    "%matplotlib inline"
   ]
  },
  {
   "cell_type": "markdown",
   "metadata": {
    "colab_type": "text",
    "id": "jPKG4PO7mJ5T"
   },
   "source": [
    "## GridMesh Class"
   ]
  },
  {
   "cell_type": "code",
   "execution_count": 2,
   "metadata": {
    "colab": {},
    "colab_type": "code",
    "id": "tSORGBfOcmj6",
    "scrolled": false
   },
   "outputs": [
    {
     "name": "stdout",
     "output_type": "stream",
     "text": [
      "Help on module GMesh:\n",
      "\n",
      "NAME\n",
      "    GMesh\n",
      "\n",
      "CLASSES\n",
      "    builtins.object\n",
      "        GMesh\n",
      "    \n",
      "    class GMesh(builtins.object)\n",
      "     |  Describes 2D meshes for ESMs.\n",
      "     |  \n",
      "     |  Meshes have shape=(nj,ni) cells with (nj+1,ni+1) vertices with coordinates (lon,lat).\n",
      "     |  \n",
      "     |  When constructing, either provide 1d or 2d coordinates (lon,lat), or assume a\n",
      "     |  uniform spherical grid with 'shape' cells covering the whole sphere with\n",
      "     |  longitudes starting at lon0.\n",
      "     |  \n",
      "     |  Attributes:\n",
      "     |  \n",
      "     |  shape - (nj,ni)\n",
      "     |  ni    - number of cells in i-direction (last)\n",
      "     |  nj    - number of cells in j-direction (first)\n",
      "     |  lon   - longitude of mesh (cell corners), shape (nj+1,ni=1)\n",
      "     |  lat   - latitude of mesh (cell corners), shape (nj+1,ni=1)\n",
      "     |  area  - area of cells, shape (nj,ni)\n",
      "     |  \n",
      "     |  Methods defined here:\n",
      "     |  \n",
      "     |  __getitem__(self, key)\n",
      "     |  \n",
      "     |  __init__(self, shape=None, lon=None, lat=None, area=None, lon0=-180.0, from_cell_center=False, rfl=0)\n",
      "     |      Constructor for Mesh:\n",
      "     |      shape - shape of cell array, (nj,ni)\n",
      "     |      ni    - number of cells in i-direction (last index)\n",
      "     |      nj    - number of cells in j-direction (first index)\n",
      "     |      lon   - longitude of mesh (cell corners) (1d or 2d)\n",
      "     |      lat   - latitude of mesh (cell corners) (1d or 2d)\n",
      "     |      area  - area of cells (2d)\n",
      "     |      lon0  - used when generating a spherical grid in absence of (lon,lat)\n",
      "     |      rfl   - refining level of this mesh\n",
      "     |  \n",
      "     |  __repr__(self)\n",
      "     |      Return repr(self).\n",
      "     |  \n",
      "     |  coarsenby2(self, coarser_mesh)\n",
      "     |      Set the height for lower level Mesh by coarsening\n",
      "     |  \n",
      "     |  dump(self)\n",
      "     |      Dump Mesh to tty.\n",
      "     |  \n",
      "     |  find_nn_uniform_source(self, lon, lat)\n",
      "     |      Returns the i,j arrays for the indexes of the nearest neighbor point to grid (lon,lat)\n",
      "     |  \n",
      "     |  pcolormesh(self, axis, data, **kwargs)\n",
      "     |  \n",
      "     |  plot(self, axis, subsample=1, linecolor='k', **kwargs)\n",
      "     |  \n",
      "     |  refine_loop(self, src_lon, src_lat, max_stages=32, max_mb=2000, verbose=True, singularity_radius=0.25)\n",
      "     |      Repeatedly refines the mesh until all cells in the source grid are intercepted by mesh nodes.\n",
      "     |      Returns a list of the refined meshes starting with parent mesh.\n",
      "     |  \n",
      "     |  refineby2(self, work_in_3d=True)\n",
      "     |      Returns new Mesh instance with twice the resolution\n",
      "     |  \n",
      "     |  rotate(self, y_rot=0, z_rot=0)\n",
      "     |      Sequentially apply a rotation about the Y-axis and then the Z-axis.\n",
      "     |  \n",
      "     |  sample_source_data_on_target_mesh(self, xs, ys, zs)\n",
      "     |      Returns the array on target mesh with values equal to the nearest-neighbor source point data\n",
      "     |  \n",
      "     |  source_hits(self, xs, ys, singularity_radius=0.25)\n",
      "     |      Returns an mask array of 1's if a cell with center (xs,ys) is intercepted by a node\n",
      "     |      on the mesh, 0 if no node falls in a cell\n",
      "     |  \n",
      "     |  ----------------------------------------------------------------------\n",
      "     |  Data descriptors defined here:\n",
      "     |  \n",
      "     |  __dict__\n",
      "     |      dictionary for instance variables (if defined)\n",
      "     |  \n",
      "     |  __weakref__\n",
      "     |      list of weak references to the object (if defined)\n",
      "\n",
      "FUNCTIONS\n",
      "    is_mesh_uniform(lon, lat)\n",
      "        Returns True if the input grid (lon,lat) is uniform and False otherwise\n",
      "\n",
      "FILE\n",
      "    /net2/nnz/thin-wall-topography/python/GMesh.py\n",
      "\n",
      "\n"
     ]
    }
   ],
   "source": [
    "#Reload the GMesh tool (in case you change something in the tool and want it to take effect in this notebook)\n",
    "imp.reload(GMesh) \n",
    "help(GMesh)"
   ]
  },
  {
   "cell_type": "markdown",
   "metadata": {
    "colab_type": "text",
    "id": "Hu7z0eIpTfTZ"
   },
   "source": [
    "## Read GEBCO dataset for topography"
   ]
  },
  {
   "cell_type": "code",
   "execution_count": 3,
   "metadata": {},
   "outputs": [
    {
     "name": "stdout",
     "output_type": "stream",
     "text": [
      " topography grid array shapes:  (43200,) (21600,) (21600, 43200)\n",
      " topography longitude range: -299.995833333 59.9958333333\n",
      " topography latitude range: -89.9958333333 89.9958333333\n",
      " Is mesh uniform? True\n"
     ]
    }
   ],
   "source": [
    "# # Open and read the topographic dataset\n",
    "# Open a topography dataset, check that the topography is on a uniform grid.\n",
    "# URL of topographic data, names of longitude, latitude and elevation variables\n",
    "url,vx,vy,ve = '/net2/nnz/thin-wall-topography/python/workdir/GEBCO_2014_2D.nc','lon','lat','elevation'\n",
    "# url,vx,vy,ve = 'http://thredds.socib.es/thredds/dodsC/ancillary_data/bathymetry/MED_GEBCO_30sec.nc','lon','lat','elevation'\n",
    "# url,vx,vy,ve = 'http://iridl.ldeo.columbia.edu/SOURCES/.NOAA/.NGDC/.ETOPO1/.z_bedrock/dods','lon','lat','z_bedrock'\n",
    "topo_data = netCDF4.Dataset(url)\n",
    "# Read coordinates of topography\n",
    "topo_lons = np.array( topo_data.variables[vx][:] )\n",
    "topo_lats = np.array( topo_data.variables[vy][:] )\n",
    "topo_elvs = np.array( topo_data.variables[ve][:,:] )\n",
    "#Translate topo data to start at target_mesh.lon[0]\n",
    "topo_lons = np.roll(topo_lons,14400,axis=0) #Roll GEBCO longitude to right. 14400 was a lucky guess that checked out!\n",
    "topo_lons = np.where(topo_lons>60 , topo_lons-360, topo_lons) #Rename (0,60) as (-300,-180) \n",
    "topo_elvs = np.roll(topo_elvs,14400,axis=1) #Roll GEBCO depth to the right by the same amount.\n",
    "topo_wet=np.zeros(topo_elvs.shape)\n",
    "topo_wet=np.where(topo_elvs<0.,1.0,0.0)\n",
    "print(' topography grid array shapes: ' , topo_lons.shape,topo_lats.shape,topo_elvs.shape)\n",
    "print(' topography longitude range:',topo_lons.min(),topo_lons.max())\n",
    "print(' topography latitude range:',topo_lats.min(),topo_lats.max())\n",
    "print(' Is mesh uniform?', GMesh.is_mesh_uniform( topo_lons, topo_lats ) )\n",
    "#plt.figure(figsize=(10,10))\n",
    "#plt.pcolormesh(topo_lons[::100], topo_lats[::100],topo_elvs[::100,::100]);plt.colorbar();"
   ]
  },
  {
   "cell_type": "markdown",
   "metadata": {
    "colab_type": "text",
    "id": "xDhpqHHKcmj8"
   },
   "source": [
    "## Read the target grid\n",
    "\n",
    "Terget grid is the underlying finite element 2D supergrid to be used in the Ocean model. Here we choose a 1/4 degree Mercator grid  generated by using the [grid_generation tool](https://github.com/nikizadehgfdl/grid_generation). "
   ]
  },
  {
   "cell_type": "code",
   "execution_count": 4,
   "metadata": {
    "colab": {},
    "colab_type": "code",
    "id": "eSSLLaQUcmj-",
    "outputId": "c25a2ea6-07bf-48a7-fead-378883e75ad0"
   },
   "outputs": [
    {
     "name": "stdout",
     "output_type": "stream",
     "text": [
      " Target mesh shape:  (1401, 2880)\n"
     ]
    }
   ],
   "source": [
    "#Read in Mercator grid for 1/4 degree model\n",
    "targ_grid =  netCDF4.Dataset('/work3/nnz/MOM6-examples_myfork/ice_ocean_SIS2/OM4_025/preprocessing.new/ocean_hgrid.ncMerc.nc')\n",
    "targ_lon = np.array(targ_grid.variables['x'])\n",
    "targ_lat = np.array(targ_grid.variables['y'])\n",
    "#x and y have shape (nyp,nxp). Topog does not need the last col for global grids (period in x). \n",
    "targ_lon = targ_lon[:,:-1]\n",
    "targ_lat = targ_lat[:,:-1]\n",
    "print(\" Target mesh shape: \",targ_lon.shape)"
   ]
  },
  {
   "cell_type": "markdown",
   "metadata": {
    "colab_type": "text",
    "id": "K1VpBDuvcmkI"
   },
   "source": [
    "## Divide the Target grid into blocks\n",
    " The target grid is uaually too big to be handled in one go. Hence, we break the target to pieces and handle them one at a time. "
   ]
  },
  {
   "cell_type": "code",
   "execution_count": 5,
   "metadata": {
    "collapsed": true
   },
   "outputs": [],
   "source": [
    "import create_topog_refinedSampling as topotool\n",
    "xb=4 # of partitions in the logical x-direction \n",
    "yb=1\n",
    "lons=topotool.break_array_to_blocks(targ_lon,xb,yb)\n",
    "lats=topotool.break_array_to_blocks(targ_lat,xb,yb)"
   ]
  },
  {
   "cell_type": "markdown",
   "metadata": {
    "colab_type": "text",
    "id": "ORytGBa4mJ5s"
   },
   "source": [
    "## Refine, Sample (by averaging), Coarsen procedure\n",
    "\n",
    "For demonstration purposes do only the 3rd block which contains the Black Sea region. But this has to be done for all the blocks and the results merged (using topotool.undo_break_array_to_blocks() subroutine)."
   ]
  },
  {
   "cell_type": "code",
   "execution_count": 6,
   "metadata": {},
   "outputs": [
    {
     "name": "stdout",
     "output_type": "stream",
     "text": [
      "  Doing block number  3\n",
      "  Target sub mesh shape:  (1401, 720)\n",
      "  Slices j,i: slice(2776, 18488, 2) slice(32400, 43186, 2)\n",
      "  Topo shape: (7856, 5393)\n",
      "  topography longitude range: -29.9958333333 59.8708333333\n",
      "  topography latitude  range: -66.8625 64.0541666667\n",
      "  Target     longitude range: -30.0 59.875\n",
      "  Target     latitude  range: -66.8595472471 64.0589597297\n",
      "  Refining the target to hit all source points ...\n",
      "<GMesh nj:1400 ni:719 shape:(1400,719)> Hit 1008720 out of 42367408 cells (15.3595 Mb)\n",
      "<GMesh nj:2800 ni:1438 shape:(2800,1438)> Hit 4030639 out of 42367408 cells (61.4380 Mb)\n",
      "<GMesh nj:5600 ni:2876 shape:(5600,2876)> Hit 15765835 out of 42367408 cells (245.7520 Mb)\n",
      "<GMesh nj:11200 ni:5752 shape:(11200,5752)> Hit 42367408 out of 42367408 cells (983.0078 Mb)\n",
      "  non-hit ratio:  0  /  42367408\n",
      "  Sampling the source points on target mesh ...\n",
      "  Sampling finished...\n",
      "  Coarsening back to the original taget grid ...\n",
      "\n"
     ]
    },
    {
     "data": {
      "text/plain": [
       "<matplotlib.collections.QuadMesh at 0x2ac328049a20>"
      ]
     },
     "execution_count": 6,
     "metadata": {},
     "output_type": "execute_result"
    },
    {
     "data": {
      "image/png": "[encoded data removed]",
      "text/plain": [
       "<matplotlib.figure.Figure at 0x2ac320d21438>"
      ]
     },
     "metadata": {
      "needs_background": "light"
     },
     "output_type": "display_data"
    }
   ],
   "source": [
    "part=3 #for demonstration, contains Black Sea\n",
    "lon = lons[part]\n",
    "lat = lats[part]\n",
    "h,hstd,hmin,hmax = topotool.do_block(part,lon,lat,topo_lons,topo_lats,topo_elvs)\n",
    "wet=np.zeros(h.shape)\n",
    "wet=np.where(h<0, 1.0,0.0)\n",
    "plt.pcolormesh(wet[1070:1100,440:480])"
   ]
  },
  {
   "cell_type": "markdown",
   "metadata": {},
   "source": [
    "## Refine, Sample (by minimum), Coarsen \n",
    "\n",
    "As you see the Bosphorus Chanell is missing and the Black Sea is not connected even though it was present in the source topography. This is because when we refined and zoomed in we picked up the wet point but the neighboring points were land and when we average over four neighors the chanell goes away.\n",
    "\n",
    "The easiest way out is not to average over the four points but to pick up the minimum height (hmin) as the height."
   ]
  },
  {
   "cell_type": "code",
   "execution_count": 7,
   "metadata": {},
   "outputs": [
    {
     "data": {
      "text/plain": [
       "<matplotlib.collections.QuadMesh at 0x2ac328124d30>"
      ]
     },
     "execution_count": 7,
     "metadata": {},
     "output_type": "execute_result"
    },
    {
     "data": {
      "image/png": "[encoded data removed]",
      "text/plain": [
       "<matplotlib.figure.Figure at 0x2ac320aa4e48>"
      ]
     },
     "metadata": {
      "needs_background": "light"
     },
     "output_type": "display_data"
    }
   ],
   "source": [
    "wetmin=np.zeros(hmin.shape)\n",
    "wetmin=np.where(hmin<0, 1.0,0.0)\n",
    "plt.pcolormesh(wetmin[1070:1100,440:480])"
   ]
  },
  {
   "cell_type": "markdown",
   "metadata": {},
   "source": [
    "## Alternate choice of opening channels\n",
    "\n",
    "Another way out, which unlike the hmin approach is subjective, is to widen the channel in the source topography so that the result of averaging are wet points. This is a very subjective approach that would need identifying all the chanells over the globe and for each one to choose how wide it shoud get to result a chanell in the final (ice9ed) topography. "
   ]
  },
  {
   "cell_type": "code",
   "execution_count": 8,
   "metadata": {
    "scrolled": false
   },
   "outputs": [
    {
     "data": {
      "text/plain": [
       "<matplotlib.collections.QuadMesh at 0x2ac3281c0780>"
      ]
     },
     "execution_count": 8,
     "metadata": {},
     "output_type": "execute_result"
    },
    {
     "data": {
      "image/png": "[encoded data removed]",
      "text/plain": [
       "<matplotlib.figure.Figure at 0x2ac32813e9b0>"
      ]
     },
     "metadata": {
      "needs_background": "light"
     },
     "output_type": "display_data"
    }
   ],
   "source": [
    "#Zoom in on Black Sea channel\n",
    "j0,i0=topotool.get_indices1D(topo_lons, topo_lats ,29.03, 41.04)\n",
    "#print(topo_elvs[j0,i0-1]) #-32\n",
    "di0,dj0=40,40\n",
    "im,ip = i0-di0, i0+di0\n",
    "jm,jp = j0-dj0, j0+dj0\n",
    "plt.pcolormesh(topo_wet[jm:jp,im:ip])"
   ]
  },
  {
   "cell_type": "code",
   "execution_count": 9,
   "metadata": {},
   "outputs": [
    {
     "data": {
      "text/plain": [
       "<matplotlib.collections.QuadMesh at 0x2ac328266be0>"
      ]
     },
     "execution_count": 9,
     "metadata": {},
     "output_type": "execute_result"
    },
    {
     "data": {
      "image/png": "[encoded data removed]",
      "text/plain": [
       "<matplotlib.figure.Figure at 0x2ac327ff0940>"
      ]
     },
     "metadata": {
      "needs_background": "light"
     },
     "output_type": "display_data"
    }
   ],
   "source": [
    "topo_elvs2 = 1.0*topo_elvs + 0.0\n",
    "#Fix the topography to open some channels\n",
    "open_channels = True\n",
    "if(open_channels):\n",
    "    j2,i2=topotool.get_indices1D(topo_lons, topo_lats ,29.1, 41.3)\n",
    "    topo_elvs2[j0-10:j2,i0-10:i2+10]=topo_elvs[j0,i0-1]\n",
    "#    j1,i1=get_indices1D(topo_lons, topo_lats ,26., 40.) #Dardanells\n",
    "#    topo_elvs2[j1+1,i1]=topo_elvs[j1,i1]    \n",
    "topo_wet2=np.zeros(topo_elvs2.shape)\n",
    "topo_wet2=np.where(topo_elvs2<0.,1.0,0.0)\n",
    "plt.pcolormesh(topo_wet2[jm:jp,im:ip])    "
   ]
  },
  {
   "cell_type": "code",
   "execution_count": 10,
   "metadata": {},
   "outputs": [
    {
     "name": "stdout",
     "output_type": "stream",
     "text": [
      "  Doing block number  3\n",
      "  Target sub mesh shape:  (1401, 720)\n",
      "  Slices j,i: slice(2776, 18488, 2) slice(32400, 43186, 2)\n",
      "  Topo shape: (7856, 5393)\n",
      "  topography longitude range: -29.9958333333 59.8708333333\n",
      "  topography latitude  range: -66.8625 64.0541666667\n",
      "  Target     longitude range: -30.0 59.875\n",
      "  Target     latitude  range: -66.8595472471 64.0589597297\n",
      "  Refining the target to hit all source points ...\n",
      "<GMesh nj:1400 ni:719 shape:(1400,719)> Hit 1008720 out of 42367408 cells (15.3595 Mb)\n",
      "<GMesh nj:2800 ni:1438 shape:(2800,1438)> Hit 4030639 out of 42367408 cells (61.4380 Mb)\n",
      "<GMesh nj:5600 ni:2876 shape:(5600,2876)> Hit 15765835 out of 42367408 cells (245.7520 Mb)\n",
      "<GMesh nj:11200 ni:5752 shape:(11200,5752)> Hit 42367408 out of 42367408 cells (983.0078 Mb)\n",
      "  non-hit ratio:  0  /  42367408\n",
      "  Sampling the source points on target mesh ...\n",
      "  Sampling finished...\n",
      "  Coarsening back to the original taget grid ...\n",
      "\n"
     ]
    },
    {
     "data": {
      "text/plain": [
       "<matplotlib.collections.QuadMesh at 0x2ac3282fe240>"
      ]
     },
     "execution_count": 10,
     "metadata": {},
     "output_type": "execute_result"
    },
    {
     "data": {
      "image/png": "[encoded data removed]",
      "text/plain": [
       "<matplotlib.figure.Figure at 0x2ac328102b38>"
      ]
     },
     "metadata": {
      "needs_background": "light"
     },
     "output_type": "display_data"
    }
   ],
   "source": [
    "#result of opening a wide channel\n",
    "h2,hstd2,hmin2,hmax2 = topotool.do_block(part,lon,lat,topo_lons,topo_lats,topo_elvs2)\n",
    "wet2=np.zeros(h2.shape)\n",
    "wet2=np.where(h2<0, 1.0,0.0)\n",
    "plt.pcolormesh(wet2[1070:1100,440:480])"
   ]
  },
  {
   "cell_type": "markdown",
   "metadata": {},
   "source": [
    "## Inspect the generated topography"
   ]
  },
  {
   "cell_type": "code",
   "execution_count": 24,
   "metadata": {},
   "outputs": [
    {
     "name": "stdout",
     "output_type": "stream",
     "text": [
      "(1401, 2880)\n"
     ]
    }
   ],
   "source": [
    "#targ_topo =  netCDF4.Dataset('/work3/nnz/MOM6-examples_myfork/ice_ocean_SIS2/OM4_025/preprocessing.new/topog_editted.nc')\n",
    "#j0,i0 = 680,1320\n",
    "#targ_topo =  netCDF4.Dataset('/work/Niki.Zadeh/MOM6-examples_myfork/ice_ocean_SIS2/OM4_0125/preprocessing/topog_editted.nc')\n",
    "#j0,i0 = 1446,2630\n",
    "targ_topo =  netCDF4.Dataset('/work/Niki.Zadeh/MOM6-examples_myfork/ice_ocean_SIS2/OM4_025/preprocessing.new/topog_MERC.nc')\n",
    "#targ_topo =  netCDF4.Dataset('/work/Niki.Zadeh/MOM6-examples_myfork/ice_ocean_SIS2/OM4_0125/preprocessing/topog_MERC.nc')\n",
    "\n",
    "targ_x = np.array(targ_topo.variables['x'])\n",
    "targ_y = np.array(targ_topo.variables['y'])\n",
    "targ_h = np.array(targ_topo.variables['h_min'])\n",
    "print(targ_h.shape)\n",
    "targ_wet=np.zeros(targ_h.shape)\n",
    "targ_wet=np.where(targ_h<0.,1.0,0.0)"
   ]
  },
  {
   "cell_type": "code",
   "execution_count": 25,
   "metadata": {},
   "outputs": [
    {
     "data": {
      "text/plain": [
       "<matplotlib.collections.QuadMesh at 0x2b98b2dcb630>"
      ]
     },
     "execution_count": 25,
     "metadata": {},
     "output_type": "execute_result"
    },
    {
     "data": {
      "image/png": "[encoded data removed]",
      "text/plain": [
       "<matplotlib.figure.Figure at 0x2b98b2d4a748>"
      ]
     },
     "metadata": {
      "needs_background": "light"
     },
     "output_type": "display_data"
    }
   ],
   "source": [
    "#Zoom in on Black Sea channel\n",
    "#import create_topog_refinedSampling as topotool\n",
    "j0,i0=topotool.get_indices2D(targ_x, targ_y ,29.03, 41.04)\n",
    "di0,dj0=40,20\n",
    "im,ip = i0-di0, i0+di0\n",
    "jm,jp = j0-dj0, j0+dj0\n",
    "plt.pcolormesh(targ_wet[jm:jp,im:ip])"
   ]
  },
  {
   "cell_type": "code",
   "execution_count": null,
   "metadata": {
    "collapsed": true
   },
   "outputs": [],
   "source": []
  }
 ],
 "metadata": {
  "colab": {
   "include_colab_link": true,
   "name": "Copy of algorithm_dev.ipynb",
   "provenance": [],
   "toc_visible": true,
   "version": "0.3.2"
  },
  "kernelspec": {
   "display_name": "Python 3",
   "language": "python",
   "name": "python3"
  },
  "language_info": {
   "codemirror_mode": {
    "name": "ipython",
    "version": 3
   },
   "file_extension": ".py",
   "mimetype": "text/x-python",
   "name": "python",
   "nbconvert_exporter": "python",
   "pygments_lexer": "ipython3",
   "version": "3.6.1"
  }
 },
 "nbformat": 4,
 "nbformat_minor": 1
}
